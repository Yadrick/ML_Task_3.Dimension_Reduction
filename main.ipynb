{
 "cells": [
  {
   "cell_type": "code",
   "execution_count": 1,
   "id": "c06b1809",
   "metadata": {},
   "outputs": [],
   "source": [
    "import numpy as np\n",
    "import pandas as pd\n",
    "import matplotlib.pyplot as plt\n",
    "from sklearn import datasets\n",
    "from sklearn.model_selection import train_test_split\n",
    "from sklearn.preprocessing import StandardScaler\n",
    "from sklearn.decomposition import PCA\n",
    "from sklearn.manifold import TSNE\n",
    "from sklearn.svm import SVC\n",
    "from sklearn.linear_model import LogisticRegression\n",
    "from sklearn.tree import DecisionTreeClassifier\n",
    "from sklearn.metrics import accuracy_score\n",
    "import time\n",
    "\n",
    "# Загрузка данных\n",
    "df = datasets.load_digits()\n",
    "X = df.data\n",
    "y = df.target\n",
    "\n",
    "# Разделение данных на обучающую и тестовую выборки\n",
    "X_train, X_test, y_train, y_test = train_test_split(X, y, test_size=0.2, random_state=42)"
   ]
  },
  {
   "cell_type": "code",
   "execution_count": 2,
   "id": "efb173ce",
   "metadata": {},
   "outputs": [
    {
     "name": "stdout",
     "output_type": "stream",
     "text": [
      "SVM Accuracy: 0.9861\n",
      "Logistic Regression Accuracy: 0.9722\n",
      "Decision Tree Accuracy: 0.8306\n"
     ]
    }
   ],
   "source": [
    "# Обучение моделей на исходных данных\n",
    "models = {\n",
    "    \"SVM\": SVC(),\n",
    "    \"Logistic Regression\": LogisticRegression(max_iter=10000),\n",
    "    \"Decision Tree\": DecisionTreeClassifier()\n",
    "}\n",
    "\n",
    "for name, model in models.items():\n",
    "    model.fit(X_train, y_train)\n",
    "    y_pred = model.predict(X_test)\n",
    "    accuracy = accuracy_score(y_test, y_pred)\n",
    "    print(f\"{name} Accuracy: {accuracy:.4f}\")"
   ]
  },
  {
   "cell_type": "code",
   "execution_count": 3,
   "id": "9b3b6b0d",
   "metadata": {},
   "outputs": [
    {
     "name": "stdout",
     "output_type": "stream",
     "text": [
      "pca train time: 0.03 seconds\n",
      "pca test time: 0.00 seconds\n",
      "PCA number of components to describe 90% variance: 21\n"
     ]
    },
    {
     "name": "stderr",
     "output_type": "stream",
     "text": [
      "C:\\Users\\iarik\\AppData\\Local\\Programs\\Python\\Python311\\Lib\\site-packages\\joblib\\externals\\loky\\backend\\context.py:136: UserWarning: Could not find the number of physical cores for the following reason:\n",
      "found 0 physical cores < 1\n",
      "Returning the number of logical cores instead. You can silence this warning by setting LOKY_MAX_CPU_COUNT to the number of cores you want to use.\n",
      "  warnings.warn(\n",
      "  File \"C:\\Users\\iarik\\AppData\\Local\\Programs\\Python\\Python311\\Lib\\site-packages\\joblib\\externals\\loky\\backend\\context.py\", line 282, in _count_physical_cores\n",
      "    raise ValueError(f\"found {cpu_count_physical} physical cores < 1\")\n"
     ]
    },
    {
     "name": "stdout",
     "output_type": "stream",
     "text": [
      "t-SNE train time: 8.65 seconds\n"
     ]
    }
   ],
   "source": [
    "# Снижение размерности с помощью PCA\n",
    "pca = PCA(n_components=0.9)\n",
    "start_time = time.time()\n",
    "X_train_pca = pca.fit_transform(X_train)\n",
    "pca_train_time = time.time() - start_time\n",
    "start_time = time.time()\n",
    "X_test_pca = pca.transform(X_test)\n",
    "pca_test_time = time.time() - start_time\n",
    "\n",
    "print(f\"pca train time: {pca_train_time:.2f} seconds\")\n",
    "print(f\"pca test time: {pca_test_time:.2f} seconds\")\n",
    "print(f\"PCA number of components to describe 90% variance: {pca.n_components_}\")\n",
    "\n",
    "# Снижение размерности с помощью t-SNE\n",
    "tsne = TSNE(n_components=2, random_state=42)\n",
    "start_time = time.time()\n",
    "X_tsne = tsne.fit_transform(df.data)\n",
    "tsne_train_time = time.time() - start_time\n",
    "X_train_tsne, X_test_tsne, y_train, y_test = train_test_split(X, y, test_size=0.2, random_state=42)\n",
    "print(f\"t-SNE train time: {tsne_train_time:.2f} seconds\")\n"
   ]
  },
  {
   "cell_type": "code",
   "execution_count": 4,
   "id": "7bb9da99",
   "metadata": {},
   "outputs": [
    {
     "name": "stdout",
     "output_type": "stream",
     "text": [
      "SVM Accuracy with PCA: 0.9861\n",
      "Logistic Regression Accuracy with PCA: 0.9583\n",
      "Decision Tree Accuracy with PCA: 0.8472\n",
      "SVM Accuracy with t-SNE: 0.9861\n",
      "Logistic Regression Accuracy with t-SNE: 0.9722\n",
      "Decision Tree Accuracy with t-SNE: 0.8500\n"
     ]
    }
   ],
   "source": [
    "# Обучение моделей на данных с пониженной размерностью (PCA)\n",
    "for name, model in models.items():\n",
    "    model.fit(X_train_pca, y_train)\n",
    "    y_pred = model.predict(X_test_pca)\n",
    "    accuracy = accuracy_score(y_test, y_pred)\n",
    "    print(f\"{name} Accuracy with PCA: {accuracy:.4f}\")\n",
    "\n",
    "# Обучение моделей на данных с пониженной размерностью (t-SNE)\n",
    "for name, model in models.items():\n",
    "    model.fit(X_train_tsne, y_train)\n",
    "    y_pred = model.predict(X_test_tsne)\n",
    "    accuracy = accuracy_score(y_test, y_pred)\n",
    "    print(f\"{name} Accuracy with t-SNE: {accuracy:.4f}\")"
   ]
  },
  {
   "cell_type": "markdown",
   "id": "f66f4038",
   "metadata": {},
   "source": [
    "<b>Вывод</b>\n",
    "- Для SVM прироста/снижения метрики при снижении размерности не наблюдается\n",
    "- Для Logistic Regression PCA повлиял негативно, метрика снизилась, TSNE никак не повлиял на результаты.\n",
    "- Для Decision Tree PCA повлиял положительно, метрика выросла, а TSNE негативно, метрика снизилась\n",
    "\n",
    "Для сохранения 90% дисперсии PCA необходима 21 компонента.\n",
    "\n",
    "- PCA работал 0.04 секунды\n",
    "- TSNE работал 3.36 секунды"
   ]
  },
  {
   "cell_type": "code",
   "execution_count": null,
   "id": "ea1a5b25",
   "metadata": {},
   "outputs": [],
   "source": []
  }
 ],
 "metadata": {
  "kernelspec": {
   "display_name": "Python 3 (ipykernel)",
   "language": "python",
   "name": "python3"
  },
  "language_info": {
   "codemirror_mode": {
    "name": "ipython",
    "version": 3
   },
   "file_extension": ".py",
   "mimetype": "text/x-python",
   "name": "python",
   "nbconvert_exporter": "python",
   "pygments_lexer": "ipython3",
   "version": "3.11.5"
  },
  "toc": {
   "base_numbering": 1,
   "nav_menu": {},
   "number_sections": true,
   "sideBar": true,
   "skip_h1_title": false,
   "title_cell": "Table of Contents",
   "title_sidebar": "Contents",
   "toc_cell": false,
   "toc_position": {},
   "toc_section_display": true,
   "toc_window_display": false
  }
 },
 "nbformat": 4,
 "nbformat_minor": 5
}
